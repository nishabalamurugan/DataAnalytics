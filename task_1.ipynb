{
  "nbformat": 4,
  "nbformat_minor": 0,
  "metadata": {
    "colab": {
      "name": "task 1.ipynb",
      "provenance": [],
      "authorship_tag": "ABX9TyO4NtPunaA1L2/o1ZK4Bo67",
      "include_colab_link": true
    },
    "kernelspec": {
      "name": "python3",
      "display_name": "Python 3"
    },
    "language_info": {
      "name": "python"
    }
  },
  "cells": [
    {
      "cell_type": "markdown",
      "metadata": {
        "id": "view-in-github",
        "colab_type": "text"
      },
      "source": [
        "<a href=\"https://colab.research.google.com/github/nishabalamurugan/nishabalamurugan/blob/main/task_1.ipynb\" target=\"_parent\"><img src=\"https://colab.research.google.com/assets/colab-badge.svg\" alt=\"Open In Colab\"/></a>"
      ]
    },
    {
      "cell_type": "markdown",
      "source": [
        "# ***NISHA B***      "
      ],
      "metadata": {
        "id": "qTW2DWRVCZnl"
      }
    },
    {
      "cell_type": "markdown",
      "source": [
        "PREDICTION USING SUPERVISED MACHINE LEARNING \n"
      ],
      "metadata": {
        "id": "qH7KGIxzJSuV"
      }
    },
    {
      "cell_type": "code",
      "source": [
        "#import necessary libraries \n",
        "import pandas as pd\n",
        "import numpy as np \n",
        "import matplotlib.pyplot as plt "
      ],
      "metadata": {
        "id": "lRhfXmcUJmrL"
      },
      "execution_count": null,
      "outputs": []
    },
    {
      "cell_type": "markdown",
      "source": [
        "READ DATASET"
      ],
      "metadata": {
        "id": "V9eAYqrWK0tS"
      }
    },
    {
      "cell_type": "code",
      "source": [
        "dataset=pd.read_csv(\"http://bit.ly/w-data\")\n",
        "print(dataset.head())"
      ],
      "metadata": {
        "colab": {
          "base_uri": "https://localhost:8080/"
        },
        "id": "OgR8l6mGKTvL",
        "outputId": "3a09006f-f16b-4a48-ad02-8ada31762f8e"
      },
      "execution_count": null,
      "outputs": [
        {
          "output_type": "stream",
          "name": "stdout",
          "text": [
            "   Hours  Scores\n",
            "0    2.5      21\n",
            "1    5.1      47\n",
            "2    3.2      27\n",
            "3    8.5      75\n",
            "4    3.5      30\n"
          ]
        }
      ]
    },
    {
      "cell_type": "markdown",
      "source": [
        "VISUALISING DATASET"
      ],
      "metadata": {
        "id": "FfQZ4CQfLJ8z"
      }
    },
    {
      "cell_type": "code",
      "source": [
        "ds=dataset.head(10)\n",
        "x=ds.Hours \n",
        "y=ds.Scores \n",
        "plt.grid(True)\n",
        "plt.scatter(x,y,color='green')\n",
        "plt.title(\"Hours studied vs Score\")\n",
        "plt.xlabel('No.of hours studied')\n",
        "plt.ylabel('Score')\n",
        "plt.show()"
      ],
      "metadata": {
        "colab": {
          "base_uri": "https://localhost:8080/",
          "height": 295
        },
        "id": "-szTmLCOLNGv",
        "outputId": "0c87d71d-38f8-48b9-fad8-358410609855"
      },
      "execution_count": null,
      "outputs": [
        {
          "output_type": "display_data",
          "data": {
            "text/plain": [
              "<Figure size 432x288 with 1 Axes>"
            ],
            "image/png": "[encoded data removed]"
          },
          "metadata": {
            "needs_background": "light"
          }
        }
      ]
    },
    {
      "cell_type": "markdown",
      "source": [
        "EXTRACT DEPENDENT AND INDEPENDENT FEATURES"
      ],
      "metadata": {
        "id": "bDFsnLJzOJN8"
      }
    },
    {
      "cell_type": "code",
      "source": [
        "x=dataset.iloc[:, :-1].values  \n",
        "y=dataset.iloc[:, 1].values   \n",
        "print('dependent and independent features are extracted')"
      ],
      "metadata": {
        "colab": {
          "base_uri": "https://localhost:8080/"
        },
        "id": "uaua1TCHOOD3",
        "outputId": "d67422a7-09e5-43d6-e249-7b29941e5cfd"
      },
      "execution_count": null,
      "outputs": [
        {
          "output_type": "stream",
          "name": "stdout",
          "text": [
            "dependent and independent features are extracted\n"
          ]
        }
      ]
    },
    {
      "cell_type": "markdown",
      "source": [
        "SPLITTING INTO TEST AND TRAIN DATASET"
      ],
      "metadata": {
        "id": "blu6lzFiPDx1"
      }
    },
    {
      "cell_type": "code",
      "source": [
        "from sklearn.model_selection import train_test_split \n",
        "xtrain,xtest,ytrain,ytest=train_test_split(x,y,test_size=0.25)"
      ],
      "metadata": {
        "id": "6s7uj6zZPEna"
      },
      "execution_count": null,
      "outputs": []
    },
    {
      "cell_type": "markdown",
      "source": [
        "LINEAR REGRESSION"
      ],
      "metadata": {
        "id": "625FeAp-PhK3"
      }
    },
    {
      "cell_type": "code",
      "source": [
        "from sklearn.linear_model import LinearRegression   \n",
        "x=LinearRegression()\n",
        "x.fit(xtrain,ytrain)"
      ],
      "metadata": {
        "colab": {
          "base_uri": "https://localhost:8080/"
        },
        "id": "ra7Rz8jzPjKd",
        "outputId": "647c8590-be2f-4bcf-8c3b-96f7ca2a9e88"
      },
      "execution_count": null,
      "outputs": [
        {
          "output_type": "execute_result",
          "data": {
            "text/plain": [
              "LinearRegression()"
            ]
          },
          "metadata": {},
          "execution_count": 55
        }
      ]
    },
    {
      "cell_type": "markdown",
      "source": [
        "TESTING THE MODEL"
      ],
      "metadata": {
        "id": "AVmbDo4SVoEN"
      }
    },
    {
      "cell_type": "code",
      "source": [
        "ypred=x.predict(xtest)\n",
        "print(\"Predicted values are:\")\n",
        "print(ypred)"
      ],
      "metadata": {
        "colab": {
          "base_uri": "https://localhost:8080/"
        },
        "id": "uDNBPyXwP4dC",
        "outputId": "1e384f57-b333-4a3d-b6cb-7e25f081a342"
      },
      "execution_count": null,
      "outputs": [
        {
          "output_type": "stream",
          "name": "stdout",
          "text": [
            "Predicted values are:\n",
            "[91.13451078 88.24930563 26.6982624  17.08091189 26.6982624  69.01460462\n",
            " 55.55031391]\n"
          ]
        }
      ]
    },
    {
      "cell_type": "code",
      "source": [
        "hrs=np.array([9.25]).reshape(1,-1) \n",
        "y=x.predict(hrs)\n",
        "print(y[0])"
      ],
      "metadata": {
        "colab": {
          "base_uri": "https://localhost:8080/"
        },
        "id": "vBNT0uwW9vWy",
        "outputId": "ac24434d-6755-499c-e77e-a127d4540048"
      },
      "execution_count": null,
      "outputs": [
        {
          "output_type": "stream",
          "name": "stdout",
          "text": [
            "91.6153783039681\n"
          ]
        }
      ]
    },
    {
      "cell_type": "code",
      "source": [
        "df= pd.DataFrame({'ACTUAL': ytest, 'PREDICTED': ypred})   \n",
        "print(df)"
      ],
      "metadata": {
        "colab": {
          "base_uri": "https://localhost:8080/"
        },
        "id": "oXVhSriNP9HO",
        "outputId": "44fa4c29-9f90-479f-a27f-e73b1fbf8ea4"
      },
      "execution_count": null,
      "outputs": [
        {
          "output_type": "stream",
          "name": "stdout",
          "text": [
            "   ACTUAL  PREDICTED\n",
            "0      88  91.134511\n",
            "1      95  88.249306\n",
            "2      30  26.698262\n",
            "3      20  17.080912\n",
            "4      21  26.698262\n",
            "5      76  69.014605\n",
            "6      60  55.550314\n"
          ]
        }
      ]
    },
    {
      "cell_type": "code",
      "source": [
        "plt.scatter(xtest,ytest,color='red')\n",
        "plt.show()"
      ],
      "metadata": {
        "colab": {
          "base_uri": "https://localhost:8080/",
          "height": 265
        },
        "id": "akSmHqY1SJ9G",
        "outputId": "8c6b7563-ccd4-4e2a-921f-ba316d58dc8c"
      },
      "execution_count": null,
      "outputs": [
        {
          "output_type": "display_data",
          "data": {
            "text/plain": [
              "<Figure size 432x288 with 1 Axes>"
            ],
            "image/png": "[encoded data removed]"
          },
          "metadata": {
            "needs_background": "light"
          }
        }
      ]
    },
    {
      "cell_type": "markdown",
      "source": [
        "MODEL EVALUATION"
      ],
      "metadata": {
        "id": "79DVZmk6S_nV"
      }
    },
    {
      "cell_type": "code",
      "source": [
        "from sklearn import metrics \n",
        "print(metrics.mean_absolute_error(ytest,ypred)) \n",
        "print('Model evaluated')"
      ],
      "metadata": {
        "colab": {
          "base_uri": "https://localhost:8080/"
        },
        "id": "BELu4Ll5TBwe",
        "outputId": "afd105f9-8376-4767-e99e-02c019da6db4"
      },
      "execution_count": null,
      "outputs": [
        {
          "output_type": "stream",
          "name": "stdout",
          "text": [
            "4.748482104329113\n",
            "Model evaluated\n"
          ]
        }
      ]
    }
  ]
}